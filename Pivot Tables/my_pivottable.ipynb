{
 "cells": [
  {
   "cell_type": "markdown",
   "id": "5e8e0420",
   "metadata": {},
   "source": [
    "<h1> Name: Eshan Mehrotra"
   ]
  },
  {
   "cell_type": "code",
   "execution_count": 199,
   "id": "0b10e265",
   "metadata": {},
   "outputs": [],
   "source": [
    "import pandas as pd"
   ]
  },
  {
   "cell_type": "code",
   "execution_count": 200,
   "id": "1ef1c603",
   "metadata": {},
   "outputs": [
    {
     "data": {
      "text/html": [
       "<div>\n",
       "<style scoped>\n",
       "    .dataframe tbody tr th:only-of-type {\n",
       "        vertical-align: middle;\n",
       "    }\n",
       "\n",
       "    .dataframe tbody tr th {\n",
       "        vertical-align: top;\n",
       "    }\n",
       "\n",
       "    .dataframe thead th {\n",
       "        text-align: right;\n",
       "    }\n",
       "</style>\n",
       "<table border=\"1\" class=\"dataframe\">\n",
       "  <thead>\n",
       "    <tr style=\"text-align: right;\">\n",
       "      <th></th>\n",
       "      <th>Name</th>\n",
       "      <th>Exam</th>\n",
       "      <th>Score</th>\n",
       "    </tr>\n",
       "  </thead>\n",
       "  <tbody>\n",
       "    <tr>\n",
       "      <th>0</th>\n",
       "      <td>Jack</td>\n",
       "      <td>e1</td>\n",
       "      <td>92</td>\n",
       "    </tr>\n",
       "    <tr>\n",
       "      <th>1</th>\n",
       "      <td>Jill</td>\n",
       "      <td>e1</td>\n",
       "      <td>96</td>\n",
       "    </tr>\n",
       "    <tr>\n",
       "      <th>2</th>\n",
       "      <td>Jack</td>\n",
       "      <td>e2</td>\n",
       "      <td>83</td>\n",
       "    </tr>\n",
       "    <tr>\n",
       "      <th>3</th>\n",
       "      <td>Bob</td>\n",
       "      <td>e1</td>\n",
       "      <td>97</td>\n",
       "    </tr>\n",
       "    <tr>\n",
       "      <th>4</th>\n",
       "      <td>Jill</td>\n",
       "      <td>e3</td>\n",
       "      <td>86</td>\n",
       "    </tr>\n",
       "    <tr>\n",
       "      <th>5</th>\n",
       "      <td>Jack</td>\n",
       "      <td>e1</td>\n",
       "      <td>98</td>\n",
       "    </tr>\n",
       "    <tr>\n",
       "      <th>6</th>\n",
       "      <td>Bob</td>\n",
       "      <td>e3</td>\n",
       "      <td>99</td>\n",
       "    </tr>\n",
       "    <tr>\n",
       "      <th>7</th>\n",
       "      <td>Jill</td>\n",
       "      <td>e3</td>\n",
       "      <td>97</td>\n",
       "    </tr>\n",
       "  </tbody>\n",
       "</table>\n",
       "</div>"
      ],
      "text/plain": [
       "   Name Exam  Score\n",
       "0  Jack   e1     92\n",
       "1  Jill   e1     96\n",
       "2  Jack   e2     83\n",
       "3   Bob   e1     97\n",
       "4  Jill   e3     86\n",
       "5  Jack   e1     98\n",
       "6   Bob   e3     99\n",
       "7  Jill   e3     97"
      ]
     },
     "execution_count": 200,
     "metadata": {},
     "output_type": "execute_result"
    }
   ],
   "source": [
    "data = {'Name':['Jack','Jill','Jack','Bob','Jill','Jack','Bob','Jill'],\n",
    "         'Exam': ['e1','e1','e2','e1','e3','e1','e3','e3'],\n",
    "          'Score': [92,96,83,97,86,98,99,97]}\n",
    "datadf = pd.DataFrame(data)\n",
    "datadf"
   ]
  },
  {
   "cell_type": "markdown",
   "id": "c2f341f2",
   "metadata": {},
   "source": [
    "## My Pivot Table Function"
   ]
  },
  {
   "cell_type": "code",
   "execution_count": 210,
   "id": "1e8d5ec8",
   "metadata": {},
   "outputs": [],
   "source": [
    "def my_pivot_table(df, index, columns, values, aggfunc=lambda s: s.mean()):\n",
    "    '''\n",
    "    Create a spreadsheet-style pivot table as a DataFrame.\n",
    "    There will be only 1 level in the pivot table\n",
    "    based on the index and columns of the input DataFrame.\n",
    "\n",
    "    Parameters\n",
    "    ----------\n",
    "    data : DataFrame\n",
    "    values : column to aggregate, optional\n",
    "    index : column, Grouper, array, or list of the previous\n",
    "    columns : column, Grouper, array, or list of the previous\n",
    "    aggfunc : function, list of functions, dict, default numpy.mean\n",
    "        If dict is passed, the key is column to aggregate and value\n",
    "        is function or list of functions.\n",
    "        \n",
    "    Returns\n",
    "    -------\n",
    "    DataFrame\n",
    "        An Excel style pivot table.\n",
    "        \n",
    "    Type: function\n",
    "    '''\n",
    "    newdf = pd.DataFrame(columns=sorted(df[columns].unique()),\n",
    "                           index=sorted(df[index].unique()))\n",
    "    \n",
    "    for idx,row in df.iterrows():\n",
    "        val = df[(df[index]==row[index]) & (df[columns]==row[columns])][values].to_frame().apply(aggfunc)[0]\n",
    "        newdf.loc[row[index],row[columns]] = val\n",
    "    \n",
    "    \n",
    "    return newdf.rename_axis(index).rename_axis(columns,axis='columns')"
   ]
  },
  {
   "cell_type": "markdown",
   "id": "62637c4e",
   "metadata": {},
   "source": [
    "## Pandas Pivot Table Expected Output"
   ]
  },
  {
   "cell_type": "code",
   "execution_count": 211,
   "id": "d89d75ef",
   "metadata": {},
   "outputs": [
    {
     "data": {
      "text/html": [
       "<div>\n",
       "<style scoped>\n",
       "    .dataframe tbody tr th:only-of-type {\n",
       "        vertical-align: middle;\n",
       "    }\n",
       "\n",
       "    .dataframe tbody tr th {\n",
       "        vertical-align: top;\n",
       "    }\n",
       "\n",
       "    .dataframe thead th {\n",
       "        text-align: right;\n",
       "    }\n",
       "</style>\n",
       "<table border=\"1\" class=\"dataframe\">\n",
       "  <thead>\n",
       "    <tr style=\"text-align: right;\">\n",
       "      <th>Exam</th>\n",
       "      <th>e1</th>\n",
       "      <th>e2</th>\n",
       "      <th>e3</th>\n",
       "    </tr>\n",
       "    <tr>\n",
       "      <th>Name</th>\n",
       "      <th></th>\n",
       "      <th></th>\n",
       "      <th></th>\n",
       "    </tr>\n",
       "  </thead>\n",
       "  <tbody>\n",
       "    <tr>\n",
       "      <th>Bob</th>\n",
       "      <td>97.0</td>\n",
       "      <td>NaN</td>\n",
       "      <td>99.0</td>\n",
       "    </tr>\n",
       "    <tr>\n",
       "      <th>Jack</th>\n",
       "      <td>95.0</td>\n",
       "      <td>83.0</td>\n",
       "      <td>NaN</td>\n",
       "    </tr>\n",
       "    <tr>\n",
       "      <th>Jill</th>\n",
       "      <td>96.0</td>\n",
       "      <td>NaN</td>\n",
       "      <td>91.5</td>\n",
       "    </tr>\n",
       "  </tbody>\n",
       "</table>\n",
       "</div>"
      ],
      "text/plain": [
       "Exam    e1    e2    e3\n",
       "Name                  \n",
       "Bob   97.0   NaN  99.0\n",
       "Jack  95.0  83.0   NaN\n",
       "Jill  96.0   NaN  91.5"
      ]
     },
     "execution_count": 211,
     "metadata": {},
     "output_type": "execute_result"
    }
   ],
   "source": [
    "pd.pivot_table(datadf,index='Name',columns='Exam',values='Score',aggfunc=lambda s:s.mean())"
   ]
  },
  {
   "cell_type": "markdown",
   "id": "d5d32328",
   "metadata": {},
   "source": [
    "## My Pivot Table Function Output"
   ]
  },
  {
   "cell_type": "code",
   "execution_count": 219,
   "id": "2d6ae7bd",
   "metadata": {},
   "outputs": [
    {
     "data": {
      "text/html": [
       "<div>\n",
       "<style scoped>\n",
       "    .dataframe tbody tr th:only-of-type {\n",
       "        vertical-align: middle;\n",
       "    }\n",
       "\n",
       "    .dataframe tbody tr th {\n",
       "        vertical-align: top;\n",
       "    }\n",
       "\n",
       "    .dataframe thead th {\n",
       "        text-align: right;\n",
       "    }\n",
       "</style>\n",
       "<table border=\"1\" class=\"dataframe\">\n",
       "  <thead>\n",
       "    <tr style=\"text-align: right;\">\n",
       "      <th>Exam</th>\n",
       "      <th>e1</th>\n",
       "      <th>e2</th>\n",
       "      <th>e3</th>\n",
       "    </tr>\n",
       "    <tr>\n",
       "      <th>Name</th>\n",
       "      <th></th>\n",
       "      <th></th>\n",
       "      <th></th>\n",
       "    </tr>\n",
       "  </thead>\n",
       "  <tbody>\n",
       "    <tr>\n",
       "      <th>Bob</th>\n",
       "      <td>97.0</td>\n",
       "      <td>NaN</td>\n",
       "      <td>99.0</td>\n",
       "    </tr>\n",
       "    <tr>\n",
       "      <th>Jack</th>\n",
       "      <td>95.0</td>\n",
       "      <td>83.0</td>\n",
       "      <td>NaN</td>\n",
       "    </tr>\n",
       "    <tr>\n",
       "      <th>Jill</th>\n",
       "      <td>96.0</td>\n",
       "      <td>NaN</td>\n",
       "      <td>91.5</td>\n",
       "    </tr>\n",
       "  </tbody>\n",
       "</table>\n",
       "</div>"
      ],
      "text/plain": [
       "Exam    e1    e2    e3\n",
       "Name                  \n",
       "Bob   97.0   NaN  99.0\n",
       "Jack  95.0  83.0   NaN\n",
       "Jill  96.0   NaN  91.5"
      ]
     },
     "execution_count": 219,
     "metadata": {},
     "output_type": "execute_result"
    }
   ],
   "source": [
    "mydf = my_pivot_table(datadf,index='Name',columns='Exam',values='Score')\n",
    "mydf"
   ]
  },
  {
   "cell_type": "code",
   "execution_count": 218,
   "id": "0b5d50af",
   "metadata": {},
   "outputs": [
    {
     "data": {
      "text/html": [
       "<div>\n",
       "<style scoped>\n",
       "    .dataframe tbody tr th:only-of-type {\n",
       "        vertical-align: middle;\n",
       "    }\n",
       "\n",
       "    .dataframe tbody tr th {\n",
       "        vertical-align: top;\n",
       "    }\n",
       "\n",
       "    .dataframe thead th {\n",
       "        text-align: right;\n",
       "    }\n",
       "</style>\n",
       "<table border=\"1\" class=\"dataframe\">\n",
       "  <thead>\n",
       "    <tr style=\"text-align: right;\">\n",
       "      <th>Exam</th>\n",
       "      <th>e1</th>\n",
       "      <th>e2</th>\n",
       "      <th>e3</th>\n",
       "    </tr>\n",
       "    <tr>\n",
       "      <th>Name</th>\n",
       "      <th></th>\n",
       "      <th></th>\n",
       "      <th></th>\n",
       "    </tr>\n",
       "  </thead>\n",
       "  <tbody>\n",
       "    <tr>\n",
       "      <th>Bob</th>\n",
       "      <td>1</td>\n",
       "      <td>NaN</td>\n",
       "      <td>1</td>\n",
       "    </tr>\n",
       "    <tr>\n",
       "      <th>Jack</th>\n",
       "      <td>2</td>\n",
       "      <td>1</td>\n",
       "      <td>NaN</td>\n",
       "    </tr>\n",
       "    <tr>\n",
       "      <th>Jill</th>\n",
       "      <td>1</td>\n",
       "      <td>NaN</td>\n",
       "      <td>2</td>\n",
       "    </tr>\n",
       "  </tbody>\n",
       "</table>\n",
       "</div>"
      ],
      "text/plain": [
       "Exam e1   e2   e3\n",
       "Name             \n",
       "Bob   1  NaN    1\n",
       "Jack  2    1  NaN\n",
       "Jill  1  NaN    2"
      ]
     },
     "execution_count": 218,
     "metadata": {},
     "output_type": "execute_result"
    }
   ],
   "source": [
    "mydf = my_pivot_table(datadf,index='Name',columns='Exam',values='Score',aggfunc=lambda s:s.count())\n",
    "mydf"
   ]
  },
  {
   "cell_type": "code",
   "execution_count": null,
   "id": "8eaed6ff",
   "metadata": {},
   "outputs": [],
   "source": []
  }
 ],
 "metadata": {
  "kernelspec": {
   "display_name": "Python 3 (ipykernel)",
   "language": "python",
   "name": "python3"
  },
  "language_info": {
   "codemirror_mode": {
    "name": "ipython",
    "version": 3
   },
   "file_extension": ".py",
   "mimetype": "text/x-python",
   "name": "python",
   "nbconvert_exporter": "python",
   "pygments_lexer": "ipython3",
   "version": "3.8.12"
  }
 },
 "nbformat": 4,
 "nbformat_minor": 5
}
