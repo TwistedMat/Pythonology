{
 "cells": [
  {
   "cell_type": "markdown",
   "id": "1603c817",
   "metadata": {},
   "source": [
    "<h1> Name: Eshan Mehrotra"
   ]
  },
  {
   "cell_type": "code",
   "execution_count": 1,
   "id": "ef34e301",
   "metadata": {},
   "outputs": [],
   "source": [
    "import pandas as pd\n",
    "import numpy as np"
   ]
  },
  {
   "cell_type": "code",
   "execution_count": 2,
   "id": "b11dab1f",
   "metadata": {},
   "outputs": [
    {
     "data": {
      "text/html": [
       "<div>\n",
       "<style scoped>\n",
       "    .dataframe tbody tr th:only-of-type {\n",
       "        vertical-align: middle;\n",
       "    }\n",
       "\n",
       "    .dataframe tbody tr th {\n",
       "        vertical-align: top;\n",
       "    }\n",
       "\n",
       "    .dataframe thead th {\n",
       "        text-align: right;\n",
       "    }\n",
       "</style>\n",
       "<table border=\"1\" class=\"dataframe\">\n",
       "  <thead>\n",
       "    <tr style=\"text-align: right;\">\n",
       "      <th></th>\n",
       "      <th>app_name</th>\n",
       "      <th>category</th>\n",
       "      <th>appstore_link_url</th>\n",
       "      <th>img_src_url</th>\n",
       "      <th>star_rating</th>\n",
       "      <th>num_ratings</th>\n",
       "    </tr>\n",
       "  </thead>\n",
       "  <tbody>\n",
       "    <tr>\n",
       "      <th>0</th>\n",
       "      <td>SoundCloud - Music &amp; Audio</td>\n",
       "      <td>Music</td>\n",
       "      <td>https://apps.apple.com/gb/app/soundcloud-music...</td>\n",
       "      <td>/autopush/uk/itunes/charts/free-apps/images/20...</td>\n",
       "      <td>4.4</td>\n",
       "      <td>10.2K Ratings</td>\n",
       "    </tr>\n",
       "    <tr>\n",
       "      <th>1</th>\n",
       "      <td>Bolt</td>\n",
       "      <td>Travel</td>\n",
       "      <td>https://apps.apple.com/gb/app/bolt/id675033630...</td>\n",
       "      <td>/autopush/uk/itunes/charts/free-apps/images/20...</td>\n",
       "      <td>4.9</td>\n",
       "      <td>29.9K Ratings</td>\n",
       "    </tr>\n",
       "    <tr>\n",
       "      <th>2</th>\n",
       "      <td>Google Drive – online backup</td>\n",
       "      <td>Productivity</td>\n",
       "      <td>https://apps.apple.com/gb/app/google-drive-onl...</td>\n",
       "      <td>/autopush/uk/itunes/charts/free-apps/images/20...</td>\n",
       "      <td>4.7</td>\n",
       "      <td>236.4K Ratings</td>\n",
       "    </tr>\n",
       "    <tr>\n",
       "      <th>3</th>\n",
       "      <td>Amazon Prime Video</td>\n",
       "      <td>Entertainment</td>\n",
       "      <td>https://apps.apple.com/gb/app/amazon-prime-vid...</td>\n",
       "      <td>/autopush/uk/itunes/charts/free-apps/images/20...</td>\n",
       "      <td>4.7</td>\n",
       "      <td>117.6K Ratings</td>\n",
       "    </tr>\n",
       "    <tr>\n",
       "      <th>4</th>\n",
       "      <td>Depop - Buy and sell fashion</td>\n",
       "      <td>Shopping</td>\n",
       "      <td>https://apps.apple.com/gb/app/depop-buy-and-se...</td>\n",
       "      <td>/autopush/uk/itunes/charts/free-apps/images/20...</td>\n",
       "      <td>4.8</td>\n",
       "      <td>158.4K Ratings</td>\n",
       "    </tr>\n",
       "  </tbody>\n",
       "</table>\n",
       "</div>"
      ],
      "text/plain": [
       "                       app_name       category  \\\n",
       "0    SoundCloud - Music & Audio          Music   \n",
       "1                          Bolt         Travel   \n",
       "2  Google Drive – online backup   Productivity   \n",
       "3            Amazon Prime Video  Entertainment   \n",
       "4  Depop - Buy and sell fashion       Shopping   \n",
       "\n",
       "                                   appstore_link_url  \\\n",
       "0  https://apps.apple.com/gb/app/soundcloud-music...   \n",
       "1  https://apps.apple.com/gb/app/bolt/id675033630...   \n",
       "2  https://apps.apple.com/gb/app/google-drive-onl...   \n",
       "3  https://apps.apple.com/gb/app/amazon-prime-vid...   \n",
       "4  https://apps.apple.com/gb/app/depop-buy-and-se...   \n",
       "\n",
       "                                         img_src_url  star_rating  \\\n",
       "0  /autopush/uk/itunes/charts/free-apps/images/20...          4.4   \n",
       "1  /autopush/uk/itunes/charts/free-apps/images/20...          4.9   \n",
       "2  /autopush/uk/itunes/charts/free-apps/images/20...          4.7   \n",
       "3  /autopush/uk/itunes/charts/free-apps/images/20...          4.7   \n",
       "4  /autopush/uk/itunes/charts/free-apps/images/20...          4.8   \n",
       "\n",
       "      num_ratings  \n",
       "0   10.2K Ratings  \n",
       "1   29.9K Ratings  \n",
       "2  236.4K Ratings  \n",
       "3  117.6K Ratings  \n",
       "4  158.4K Ratings  "
      ]
     },
     "execution_count": 2,
     "metadata": {},
     "output_type": "execute_result"
    }
   ],
   "source": [
    "itunesdf = pd.read_csv('data/itunes.csv')\n",
    "itunesdf.head()"
   ]
  },
  {
   "cell_type": "code",
   "execution_count": 3,
   "id": "b711df3b",
   "metadata": {},
   "outputs": [
    {
     "name": "stdout",
     "output_type": "stream",
     "text": [
      "<class 'pandas.core.frame.DataFrame'>\n",
      "RangeIndex: 100 entries, 0 to 99\n",
      "Data columns (total 6 columns):\n",
      " #   Column             Non-Null Count  Dtype  \n",
      "---  ------             --------------  -----  \n",
      " 0   app_name           100 non-null    object \n",
      " 1   category           100 non-null    object \n",
      " 2   appstore_link_url  100 non-null    object \n",
      " 3   img_src_url        100 non-null    object \n",
      " 4   star_rating        100 non-null    float64\n",
      " 5   num_ratings        100 non-null    object \n",
      "dtypes: float64(1), object(5)\n",
      "memory usage: 4.8+ KB\n"
     ]
    }
   ],
   "source": [
    "itunesdf.info()"
   ]
  },
  {
   "cell_type": "markdown",
   "id": "30d75892",
   "metadata": {},
   "source": [
    "## Clean Data - Extra Number of Ratings"
   ]
  },
  {
   "cell_type": "code",
   "execution_count": 4,
   "id": "49af6023",
   "metadata": {},
   "outputs": [],
   "source": [
    "itunesdf['num_ratings_clean'] = pd.Series([int(float(y[:-1])*1000000) if \"M\" in y else int((float(y[:-1]))*1000) \n",
    "                                           if \"K\" in y else int(y) \n",
    "                                           for numrat in itunesdf.num_ratings \n",
    "                                           if (y:= numrat.split()[0].strip()) is not None])"
   ]
  },
  {
   "cell_type": "code",
   "execution_count": 5,
   "id": "196b4413",
   "metadata": {},
   "outputs": [
    {
     "data": {
      "text/html": [
       "<div>\n",
       "<style scoped>\n",
       "    .dataframe tbody tr th:only-of-type {\n",
       "        vertical-align: middle;\n",
       "    }\n",
       "\n",
       "    .dataframe tbody tr th {\n",
       "        vertical-align: top;\n",
       "    }\n",
       "\n",
       "    .dataframe thead th {\n",
       "        text-align: right;\n",
       "    }\n",
       "</style>\n",
       "<table border=\"1\" class=\"dataframe\">\n",
       "  <thead>\n",
       "    <tr style=\"text-align: right;\">\n",
       "      <th></th>\n",
       "      <th>app_name</th>\n",
       "      <th>category</th>\n",
       "      <th>appstore_link_url</th>\n",
       "      <th>img_src_url</th>\n",
       "      <th>star_rating</th>\n",
       "      <th>num_ratings</th>\n",
       "      <th>num_ratings_clean</th>\n",
       "    </tr>\n",
       "  </thead>\n",
       "  <tbody>\n",
       "    <tr>\n",
       "      <th>0</th>\n",
       "      <td>SoundCloud - Music &amp; Audio</td>\n",
       "      <td>Music</td>\n",
       "      <td>https://apps.apple.com/gb/app/soundcloud-music...</td>\n",
       "      <td>/autopush/uk/itunes/charts/free-apps/images/20...</td>\n",
       "      <td>4.4</td>\n",
       "      <td>10.2K Ratings</td>\n",
       "      <td>10200</td>\n",
       "    </tr>\n",
       "    <tr>\n",
       "      <th>1</th>\n",
       "      <td>Bolt</td>\n",
       "      <td>Travel</td>\n",
       "      <td>https://apps.apple.com/gb/app/bolt/id675033630...</td>\n",
       "      <td>/autopush/uk/itunes/charts/free-apps/images/20...</td>\n",
       "      <td>4.9</td>\n",
       "      <td>29.9K Ratings</td>\n",
       "      <td>29900</td>\n",
       "    </tr>\n",
       "    <tr>\n",
       "      <th>2</th>\n",
       "      <td>Google Drive – online backup</td>\n",
       "      <td>Productivity</td>\n",
       "      <td>https://apps.apple.com/gb/app/google-drive-onl...</td>\n",
       "      <td>/autopush/uk/itunes/charts/free-apps/images/20...</td>\n",
       "      <td>4.7</td>\n",
       "      <td>236.4K Ratings</td>\n",
       "      <td>236400</td>\n",
       "    </tr>\n",
       "    <tr>\n",
       "      <th>3</th>\n",
       "      <td>Amazon Prime Video</td>\n",
       "      <td>Entertainment</td>\n",
       "      <td>https://apps.apple.com/gb/app/amazon-prime-vid...</td>\n",
       "      <td>/autopush/uk/itunes/charts/free-apps/images/20...</td>\n",
       "      <td>4.7</td>\n",
       "      <td>117.6K Ratings</td>\n",
       "      <td>117600</td>\n",
       "    </tr>\n",
       "    <tr>\n",
       "      <th>4</th>\n",
       "      <td>Depop - Buy and sell fashion</td>\n",
       "      <td>Shopping</td>\n",
       "      <td>https://apps.apple.com/gb/app/depop-buy-and-se...</td>\n",
       "      <td>/autopush/uk/itunes/charts/free-apps/images/20...</td>\n",
       "      <td>4.8</td>\n",
       "      <td>158.4K Ratings</td>\n",
       "      <td>158400</td>\n",
       "    </tr>\n",
       "  </tbody>\n",
       "</table>\n",
       "</div>"
      ],
      "text/plain": [
       "                       app_name       category  \\\n",
       "0    SoundCloud - Music & Audio          Music   \n",
       "1                          Bolt         Travel   \n",
       "2  Google Drive – online backup   Productivity   \n",
       "3            Amazon Prime Video  Entertainment   \n",
       "4  Depop - Buy and sell fashion       Shopping   \n",
       "\n",
       "                                   appstore_link_url  \\\n",
       "0  https://apps.apple.com/gb/app/soundcloud-music...   \n",
       "1  https://apps.apple.com/gb/app/bolt/id675033630...   \n",
       "2  https://apps.apple.com/gb/app/google-drive-onl...   \n",
       "3  https://apps.apple.com/gb/app/amazon-prime-vid...   \n",
       "4  https://apps.apple.com/gb/app/depop-buy-and-se...   \n",
       "\n",
       "                                         img_src_url  star_rating  \\\n",
       "0  /autopush/uk/itunes/charts/free-apps/images/20...          4.4   \n",
       "1  /autopush/uk/itunes/charts/free-apps/images/20...          4.9   \n",
       "2  /autopush/uk/itunes/charts/free-apps/images/20...          4.7   \n",
       "3  /autopush/uk/itunes/charts/free-apps/images/20...          4.7   \n",
       "4  /autopush/uk/itunes/charts/free-apps/images/20...          4.8   \n",
       "\n",
       "      num_ratings  num_ratings_clean  \n",
       "0   10.2K Ratings              10200  \n",
       "1   29.9K Ratings              29900  \n",
       "2  236.4K Ratings             236400  \n",
       "3  117.6K Ratings             117600  \n",
       "4  158.4K Ratings             158400  "
      ]
     },
     "execution_count": 5,
     "metadata": {},
     "output_type": "execute_result"
    }
   ],
   "source": [
    "itunesdf.head()"
   ]
  },
  {
   "cell_type": "code",
   "execution_count": 6,
   "id": "c643355a",
   "metadata": {},
   "outputs": [
    {
     "data": {
      "text/plain": [
       "Index(['app_name', 'category', 'appstore_link_url', 'img_src_url',\n",
       "       'star_rating', 'num_ratings', 'num_ratings_clean'],\n",
       "      dtype='object')"
      ]
     },
     "execution_count": 6,
     "metadata": {},
     "output_type": "execute_result"
    }
   ],
   "source": [
    "itunesdf.columns"
   ]
  },
  {
   "cell_type": "markdown",
   "id": "a689dbb0",
   "metadata": {},
   "source": [
    "## Top Apps based on Star Ratings"
   ]
  },
  {
   "cell_type": "code",
   "execution_count": 7,
   "id": "3c722f86",
   "metadata": {},
   "outputs": [
    {
     "data": {
      "text/html": [
       "<div>\n",
       "<style scoped>\n",
       "    .dataframe tbody tr th:only-of-type {\n",
       "        vertical-align: middle;\n",
       "    }\n",
       "\n",
       "    .dataframe tbody tr th {\n",
       "        vertical-align: top;\n",
       "    }\n",
       "\n",
       "    .dataframe thead th {\n",
       "        text-align: right;\n",
       "    }\n",
       "</style>\n",
       "<table border=\"1\" class=\"dataframe\">\n",
       "  <thead>\n",
       "    <tr style=\"text-align: right;\">\n",
       "      <th></th>\n",
       "      <th>app_name</th>\n",
       "      <th>star_rating</th>\n",
       "      <th>num_ratings_clean</th>\n",
       "    </tr>\n",
       "  </thead>\n",
       "  <tbody>\n",
       "    <tr>\n",
       "      <th>25</th>\n",
       "      <td>Shazam</td>\n",
       "      <td>4.9</td>\n",
       "      <td>694400</td>\n",
       "    </tr>\n",
       "    <tr>\n",
       "      <th>1</th>\n",
       "      <td>Bolt</td>\n",
       "      <td>4.9</td>\n",
       "      <td>29900</td>\n",
       "    </tr>\n",
       "    <tr>\n",
       "      <th>30</th>\n",
       "      <td>Barclays</td>\n",
       "      <td>4.8</td>\n",
       "      <td>856200</td>\n",
       "    </tr>\n",
       "    <tr>\n",
       "      <th>36</th>\n",
       "      <td>HSBC UK Mobile Banking</td>\n",
       "      <td>4.8</td>\n",
       "      <td>543600</td>\n",
       "    </tr>\n",
       "    <tr>\n",
       "      <th>48</th>\n",
       "      <td>Booking.com Travel Deals</td>\n",
       "      <td>4.8</td>\n",
       "      <td>540400</td>\n",
       "    </tr>\n",
       "    <tr>\n",
       "      <th>...</th>\n",
       "      <td>...</td>\n",
       "      <td>...</td>\n",
       "      <td>...</td>\n",
       "    </tr>\n",
       "    <tr>\n",
       "      <th>71</th>\n",
       "      <td>B&amp;M Stores</td>\n",
       "      <td>3.1</td>\n",
       "      <td>103</td>\n",
       "    </tr>\n",
       "    <tr>\n",
       "      <th>75</th>\n",
       "      <td>Amazon</td>\n",
       "      <td>3.0</td>\n",
       "      <td>11300</td>\n",
       "    </tr>\n",
       "    <tr>\n",
       "      <th>11</th>\n",
       "      <td>SaraMart</td>\n",
       "      <td>2.9</td>\n",
       "      <td>108</td>\n",
       "    </tr>\n",
       "    <tr>\n",
       "      <th>83</th>\n",
       "      <td>Facebook</td>\n",
       "      <td>2.6</td>\n",
       "      <td>37500</td>\n",
       "    </tr>\n",
       "    <tr>\n",
       "      <th>56</th>\n",
       "      <td>Bemoji | Your 3D Avatar Emoji</td>\n",
       "      <td>2.6</td>\n",
       "      <td>93</td>\n",
       "    </tr>\n",
       "  </tbody>\n",
       "</table>\n",
       "<p>100 rows × 3 columns</p>\n",
       "</div>"
      ],
      "text/plain": [
       "                         app_name  star_rating  num_ratings_clean\n",
       "25                         Shazam          4.9             694400\n",
       "1                            Bolt          4.9              29900\n",
       "30                       Barclays          4.8             856200\n",
       "36         HSBC UK Mobile Banking          4.8             543600\n",
       "48       Booking.com Travel Deals          4.8             540400\n",
       "..                            ...          ...                ...\n",
       "71                     B&M Stores          3.1                103\n",
       "75                         Amazon          3.0              11300\n",
       "11                       SaraMart          2.9                108\n",
       "83                       Facebook          2.6              37500\n",
       "56  Bemoji | Your 3D Avatar Emoji          2.6                 93\n",
       "\n",
       "[100 rows x 3 columns]"
      ]
     },
     "execution_count": 7,
     "metadata": {},
     "output_type": "execute_result"
    }
   ],
   "source": [
    "topappsdf = itunesdf.sort_values(by=['star_rating','num_ratings_clean','app_name'],ascending=[False,False,True])\n",
    "topappsdf = topappsdf[['app_name','star_rating', 'num_ratings_clean']]\n",
    "topappsdf"
   ]
  },
  {
   "cell_type": "code",
   "execution_count": 8,
   "id": "435fd723",
   "metadata": {},
   "outputs": [
    {
     "data": {
      "text/html": [
       "<div>\n",
       "<style scoped>\n",
       "    .dataframe tbody tr th:only-of-type {\n",
       "        vertical-align: middle;\n",
       "    }\n",
       "\n",
       "    .dataframe tbody tr th {\n",
       "        vertical-align: top;\n",
       "    }\n",
       "\n",
       "    .dataframe thead th {\n",
       "        text-align: right;\n",
       "    }\n",
       "</style>\n",
       "<table border=\"1\" class=\"dataframe\">\n",
       "  <thead>\n",
       "    <tr style=\"text-align: right;\">\n",
       "      <th></th>\n",
       "      <th>app_name</th>\n",
       "      <th>star_rating</th>\n",
       "      <th>num_ratings_clean</th>\n",
       "    </tr>\n",
       "  </thead>\n",
       "  <tbody>\n",
       "    <tr>\n",
       "      <th>81</th>\n",
       "      <td>Spotify New Music and Podcasts</td>\n",
       "      <td>4.7</td>\n",
       "      <td>1600000</td>\n",
       "    </tr>\n",
       "    <tr>\n",
       "      <th>95</th>\n",
       "      <td>WhatsApp Messenger</td>\n",
       "      <td>4.7</td>\n",
       "      <td>1600000</td>\n",
       "    </tr>\n",
       "  </tbody>\n",
       "</table>\n",
       "</div>"
      ],
      "text/plain": [
       "                          app_name  star_rating  num_ratings_clean\n",
       "81  Spotify New Music and Podcasts          4.7            1600000\n",
       "95              WhatsApp Messenger          4.7            1600000"
      ]
     },
     "execution_count": 8,
     "metadata": {},
     "output_type": "execute_result"
    }
   ],
   "source": [
    "#Validation Sorting Order for app_name column if same star_rating and num_ratings_clean\n",
    "topappsdf[topappsdf.duplicated(subset=['star_rating','num_ratings_clean'],keep=False)]"
   ]
  },
  {
   "cell_type": "markdown",
   "id": "963a4ed4",
   "metadata": {},
   "source": [
    "## Number of Apps per Category"
   ]
  },
  {
   "cell_type": "code",
   "execution_count": 9,
   "id": "f8f4d948",
   "metadata": {},
   "outputs": [
    {
     "data": {
      "text/plain": [
       "array(['Music', 'Travel', 'Productivity', 'Entertainment', 'Shopping',\n",
       "       'Games', 'Food & Drink', 'Finance', 'Photo & Video', 'Education',\n",
       "       'Social Networking', 'Reference', 'Utilities', 'Navigation',\n",
       "       'Health & Fitness', 'Business'], dtype=object)"
      ]
     },
     "execution_count": 9,
     "metadata": {},
     "output_type": "execute_result"
    }
   ],
   "source": [
    "itunesdf.category.unique()"
   ]
  },
  {
   "cell_type": "code",
   "execution_count": 10,
   "id": "1436851e",
   "metadata": {},
   "outputs": [],
   "source": [
    "cat_grp = itunesdf.groupby(by='category')"
   ]
  },
  {
   "cell_type": "code",
   "execution_count": 11,
   "id": "21c6355c",
   "metadata": {
    "scrolled": true
   },
   "outputs": [
    {
     "data": {
      "text/plain": [
       "category\n",
       "Business              2\n",
       "Education             5\n",
       "Entertainment         4\n",
       "Finance               6\n",
       "Food & Drink          4\n",
       "Games                34\n",
       "Health & Fitness      2\n",
       "Music                 4\n",
       "Navigation            2\n",
       "Photo & Video         5\n",
       "Productivity          6\n",
       "Reference             1\n",
       "Shopping             11\n",
       "Social Networking     5\n",
       "Travel                6\n",
       "Utilities             3\n",
       "dtype: int64"
      ]
     },
     "execution_count": 11,
     "metadata": {},
     "output_type": "execute_result"
    }
   ],
   "source": [
    "cat_grp.size()"
   ]
  },
  {
   "cell_type": "code",
   "execution_count": 12,
   "id": "645fd35e",
   "metadata": {},
   "outputs": [
    {
     "data": {
      "text/plain": [
       "Index(['Business', 'Education', 'Entertainment', 'Finance', 'Food & Drink',\n",
       "       'Games', 'Health & Fitness', 'Music', 'Navigation', 'Photo & Video',\n",
       "       'Productivity', 'Reference', 'Shopping', 'Social Networking', 'Travel',\n",
       "       'Utilities'],\n",
       "      dtype='object', name='category')"
      ]
     },
     "execution_count": 12,
     "metadata": {},
     "output_type": "execute_result"
    }
   ],
   "source": [
    "cat_grp.size().index"
   ]
  },
  {
   "cell_type": "markdown",
   "id": "5bf1ed6b",
   "metadata": {},
   "source": [
    "## Average Apps Rating per Category"
   ]
  },
  {
   "cell_type": "code",
   "execution_count": 13,
   "id": "df057995",
   "metadata": {},
   "outputs": [
    {
     "data": {
      "text/plain": [
       "category\n",
       "Finance              4.796536\n",
       "Music                4.757942\n",
       "Travel               4.715657\n",
       "Photo & Video        4.704613\n",
       "Health & Fitness     4.700000\n",
       "Shopping             4.697098\n",
       "Navigation           4.688176\n",
       "Food & Drink         4.665683\n",
       "Social Networking    4.644088\n",
       "Entertainment        4.643281\n",
       "Productivity         4.626733\n",
       "Games                4.611581\n",
       "Business             4.582095\n",
       "Education            4.558274\n",
       "Reference            4.400000\n",
       "Utilities            4.299578\n",
       "dtype: float64"
      ]
     },
     "execution_count": 13,
     "metadata": {},
     "output_type": "execute_result"
    }
   ],
   "source": [
    "cat_series = cat_grp.apply(lambda q: sum(q['star_rating']*q['num_ratings_clean'])/sum(q['num_ratings_clean']))\n",
    "cat_series.sort_values(ascending=False)"
   ]
  },
  {
   "cell_type": "markdown",
   "id": "96a57e59",
   "metadata": {},
   "source": [
    "## Top Rated App per Category"
   ]
  },
  {
   "cell_type": "code",
   "execution_count": 14,
   "id": "a15c5dee",
   "metadata": {},
   "outputs": [
    {
     "data": {
      "text/html": [
       "<div>\n",
       "<style scoped>\n",
       "    .dataframe tbody tr th:only-of-type {\n",
       "        vertical-align: middle;\n",
       "    }\n",
       "\n",
       "    .dataframe tbody tr th {\n",
       "        vertical-align: top;\n",
       "    }\n",
       "\n",
       "    .dataframe thead th {\n",
       "        text-align: right;\n",
       "    }\n",
       "</style>\n",
       "<table border=\"1\" class=\"dataframe\">\n",
       "  <thead>\n",
       "    <tr style=\"text-align: right;\">\n",
       "      <th></th>\n",
       "      <th>category</th>\n",
       "      <th>app_name</th>\n",
       "      <th>star_rating</th>\n",
       "    </tr>\n",
       "  </thead>\n",
       "  <tbody>\n",
       "    <tr>\n",
       "      <th>64</th>\n",
       "      <td>Business</td>\n",
       "      <td>Microsoft Teams</td>\n",
       "      <td>4.7</td>\n",
       "    </tr>\n",
       "    <tr>\n",
       "      <th>42</th>\n",
       "      <td>Education</td>\n",
       "      <td>Duolingo</td>\n",
       "      <td>4.7</td>\n",
       "    </tr>\n",
       "    <tr>\n",
       "      <th>91</th>\n",
       "      <td>Entertainment</td>\n",
       "      <td>TikTok - Make Your Day</td>\n",
       "      <td>4.7</td>\n",
       "    </tr>\n",
       "    <tr>\n",
       "      <th>30</th>\n",
       "      <td>Finance</td>\n",
       "      <td>Barclays</td>\n",
       "      <td>4.8</td>\n",
       "    </tr>\n",
       "    <tr>\n",
       "      <th>98</th>\n",
       "      <td>Food &amp; Drink</td>\n",
       "      <td>Just Eat - Food Delivery</td>\n",
       "      <td>4.7</td>\n",
       "    </tr>\n",
       "    <tr>\n",
       "      <th>49</th>\n",
       "      <td>Games</td>\n",
       "      <td>8 Ball Pool™</td>\n",
       "      <td>4.7</td>\n",
       "    </tr>\n",
       "    <tr>\n",
       "      <th>50</th>\n",
       "      <td>Health &amp; Fitness</td>\n",
       "      <td>MyFitnessPal</td>\n",
       "      <td>4.7</td>\n",
       "    </tr>\n",
       "    <tr>\n",
       "      <th>25</th>\n",
       "      <td>Music</td>\n",
       "      <td>Shazam</td>\n",
       "      <td>4.9</td>\n",
       "    </tr>\n",
       "    <tr>\n",
       "      <th>82</th>\n",
       "      <td>Navigation</td>\n",
       "      <td>Google Maps - Transit &amp; Food</td>\n",
       "      <td>4.7</td>\n",
       "    </tr>\n",
       "    <tr>\n",
       "      <th>10</th>\n",
       "      <td>Photo &amp; Video</td>\n",
       "      <td>FreePrints - Photos Delivered</td>\n",
       "      <td>4.8</td>\n",
       "    </tr>\n",
       "    <tr>\n",
       "      <th>2</th>\n",
       "      <td>Productivity</td>\n",
       "      <td>Google Drive – online backup</td>\n",
       "      <td>4.7</td>\n",
       "    </tr>\n",
       "    <tr>\n",
       "      <th>17</th>\n",
       "      <td>Reference</td>\n",
       "      <td>Google Translate</td>\n",
       "      <td>4.4</td>\n",
       "    </tr>\n",
       "    <tr>\n",
       "      <th>72</th>\n",
       "      <td>Shopping</td>\n",
       "      <td>UNiDAYS: Student Discounts</td>\n",
       "      <td>4.8</td>\n",
       "    </tr>\n",
       "    <tr>\n",
       "      <th>13</th>\n",
       "      <td>Social Networking</td>\n",
       "      <td>Pinterest: Lifestyle Ideas</td>\n",
       "      <td>4.8</td>\n",
       "    </tr>\n",
       "    <tr>\n",
       "      <th>1</th>\n",
       "      <td>Travel</td>\n",
       "      <td>Bolt</td>\n",
       "      <td>4.9</td>\n",
       "    </tr>\n",
       "    <tr>\n",
       "      <th>19</th>\n",
       "      <td>Utilities</td>\n",
       "      <td>My Vodafone</td>\n",
       "      <td>4.3</td>\n",
       "    </tr>\n",
       "  </tbody>\n",
       "</table>\n",
       "</div>"
      ],
      "text/plain": [
       "             category                       app_name  star_rating\n",
       "64           Business                Microsoft Teams          4.7\n",
       "42          Education                       Duolingo          4.7\n",
       "91      Entertainment         TikTok - Make Your Day          4.7\n",
       "30            Finance                       Barclays          4.8\n",
       "98       Food & Drink       Just Eat - Food Delivery          4.7\n",
       "49              Games                   8 Ball Pool™          4.7\n",
       "50   Health & Fitness                   MyFitnessPal          4.7\n",
       "25              Music                         Shazam          4.9\n",
       "82         Navigation   Google Maps - Transit & Food          4.7\n",
       "10      Photo & Video  FreePrints - Photos Delivered          4.8\n",
       "2        Productivity   Google Drive – online backup          4.7\n",
       "17          Reference               Google Translate          4.4\n",
       "72           Shopping     UNiDAYS: Student Discounts          4.8\n",
       "13  Social Networking     Pinterest: Lifestyle Ideas          4.8\n",
       "1              Travel                           Bolt          4.9\n",
       "19          Utilities                    My Vodafone          4.3"
      ]
     },
     "execution_count": 14,
     "metadata": {},
     "output_type": "execute_result"
    }
   ],
   "source": [
    "sorted_itunesdf = itunesdf.sort_values(by=['star_rating','num_ratings_clean'],ascending=False)\n",
    "sorted_itunesdf.loc[sorted_itunesdf.groupby('category')['star_rating'].idxmax()][['category','app_name','star_rating']]"
   ]
  }
 ],
 "metadata": {
  "kernelspec": {
   "display_name": "Python 3 (ipykernel)",
   "language": "python",
   "name": "python3"
  },
  "language_info": {
   "codemirror_mode": {
    "name": "ipython",
    "version": 3
   },
   "file_extension": ".py",
   "mimetype": "text/x-python",
   "name": "python",
   "nbconvert_exporter": "python",
   "pygments_lexer": "ipython3",
   "version": "3.8.12"
  }
 },
 "nbformat": 4,
 "nbformat_minor": 5
}
