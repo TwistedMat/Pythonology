{
 "cells": [
  {
   "cell_type": "markdown",
   "id": "65a354e0",
   "metadata": {},
   "source": [
    "<h1> Name: Eshan Mehrotra"
   ]
  },
  {
   "cell_type": "markdown",
   "id": "f92aff17",
   "metadata": {},
   "source": [
    "## <font color=blue>*Exercise 1 Time as Strings*</font>\n",
    "### Parsing Strings/Tupes to get Hours and/or Mins and/or Seconds"
   ]
  },
  {
   "cell_type": "code",
   "execution_count": 1,
   "id": "4d5d905a",
   "metadata": {},
   "outputs": [],
   "source": [
    "def parse_hms(time):\n",
    "    '''\n",
    "    Convert String input of a time duration and return tuple of hours, mins & seconds.\n",
    "    Can parse inputs without hours or mins time information.\n",
    "    Example input-outputs:\n",
    "    '23' returns (0,0,23)\n",
    "    '45:00' returns (0,45,0)\n",
    "    '2:34:16' returns (2,34,16)\n",
    "    '''\n",
    "    if (time.count(':')==0):\n",
    "        fulltime = time.rjust(4,':')\n",
    "    elif (time.count(':')==1):\n",
    "        fulltime = time.rjust(6,':')\n",
    "    else:\n",
    "        fulltime = time\n",
    "    \n",
    "    h,m,s = ['00' if x.strip()=='' else x for x in fulltime.split(':')]\n",
    "    return (int(h),int(m),int(s))"
   ]
  },
  {
   "cell_type": "code",
   "execution_count": 2,
   "id": "c638fe0e",
   "metadata": {},
   "outputs": [
    {
     "name": "stdout",
     "output_type": "stream",
     "text": [
      "(2, 34, 16)\n",
      "(14, 21, 56)\n",
      "(0, 45, 0)\n",
      "(0, 0, 23)\n",
      "(12, 0, 13)\n"
     ]
    }
   ],
   "source": [
    "print(parse_hms('2:34:16'))\n",
    "print(parse_hms('14:21:56'))\n",
    "print(parse_hms('45:00'))\n",
    "print(parse_hms('23'))\n",
    "print(parse_hms('12::13'))"
   ]
  },
  {
   "cell_type": "code",
   "execution_count": 3,
   "id": "03986578",
   "metadata": {},
   "outputs": [],
   "source": [
    "def hms_to_seconds(h,m,s):\n",
    "    '''\n",
    "    Converts hours, mins and seconds into its equivalent number of seconds and returns it.\n",
    "    Example input-outputs:\n",
    "    (1,23,24) returns 5004\n",
    "    '''\n",
    "    return ((h*3600) + (m*60) + s)"
   ]
  },
  {
   "cell_type": "code",
   "execution_count": 4,
   "id": "246e8df8",
   "metadata": {},
   "outputs": [
    {
     "name": "stdout",
     "output_type": "stream",
     "text": [
      "5004\n",
      "2017\n"
     ]
    }
   ],
   "source": [
    "print(hms_to_seconds(1,23,24))\n",
    "print(hms_to_seconds(0,33,37))"
   ]
  },
  {
   "cell_type": "code",
   "execution_count": 5,
   "id": "837a1991",
   "metadata": {},
   "outputs": [],
   "source": [
    "def seconds_to_hms(sec):\n",
    "    '''\n",
    "    Converts total number of seconds into equivalent tuple of (hours,mins,seconds) and returns it. \n",
    "    Example input-outputs:\n",
    "    (2017) returns (0,33,37)\n",
    "    '''\n",
    "    return (((sec//60)//60,(sec//60)%60, sec%60))"
   ]
  },
  {
   "cell_type": "code",
   "execution_count": 6,
   "id": "e20531b4",
   "metadata": {},
   "outputs": [
    {
     "name": "stdout",
     "output_type": "stream",
     "text": [
      "(0, 33, 37)\n",
      "(0, 0, 0)\n",
      "54321\n"
     ]
    }
   ],
   "source": [
    "print(seconds_to_hms(2017))\n",
    "print(seconds_to_hms(0))\n",
    "print(hms_to_seconds(*seconds_to_hms(54321)))"
   ]
  },
  {
   "cell_type": "code",
   "execution_count": 7,
   "id": "892b9fd4",
   "metadata": {},
   "outputs": [],
   "source": [
    "def sum_hms(timearr):\n",
    "    '''\n",
    "    Take the array of time duration strings & adds them returning a tuple of (h,m,s).\n",
    "    Example input-output:\n",
    "    ['0:1:24', '2:34:45'] returns (2, 36, 9)\n",
    "    [] returns (0,0,0)\n",
    "    '''\n",
    "    allseconds = [hms_to_seconds(*parse_hms(time)) for time in timearr]\n",
    "    \n",
    "    return (seconds_to_hms(sum(allseconds)))\n",
    "            "
   ]
  },
  {
   "cell_type": "code",
   "execution_count": 8,
   "id": "cacaca31",
   "metadata": {},
   "outputs": [
    {
     "name": "stdout",
     "output_type": "stream",
     "text": [
      "(2, 36, 9)\n",
      "(3, 23, 45)\n",
      "(0, 0, 0)\n"
     ]
    }
   ],
   "source": [
    "print(sum_hms(['0:1:24', '2:34:45']))\n",
    "print(sum_hms(['3:00:00', '23:00', '45']))\n",
    "print(sum_hms([]))"
   ]
  },
  {
   "cell_type": "markdown",
   "id": "791735d0",
   "metadata": {},
   "source": [
    "<a id='varincomp'></a>\n",
    "## <font color=blue>*Exercise 2 Amicable Numbers*</font>\n",
    "### Find all Amicable Numbers less than or equal to n. \n",
    "**Amicable Numbers**(https://en.wikipedia.org/wiki/Amicable_numbers)"
   ]
  },
  {
   "cell_type": "code",
   "execution_count": 9,
   "id": "ae456e7a",
   "metadata": {},
   "outputs": [],
   "source": [
    "def proper_divisors(n):\n",
    "    '''\n",
    "    Returns a list of all proper divisors of n.\n",
    "    proper divisor of a number is a positive factor of that number other than the number itself. \n",
    "    For example, the proper divisors of 6 are 1, 2, and 3\n",
    "    '''\n",
    "    return [i for i in range(1,n) if n%i == 0]"
   ]
  },
  {
   "cell_type": "code",
   "execution_count": 10,
   "id": "28c0f15f",
   "metadata": {},
   "outputs": [],
   "source": [
    "def amicable_numbers(n):\n",
    "    '''\n",
    "    Returns pairs of amicable numbers less than or equal to n.\n",
    "    2 numbers are amicable if the sum of the proper divisos of each is equal to the other number.\n",
    "    Example: (220, 284). \n",
    "    They are amicable because the proper divisors of 220 are 1, 2, 4, 5, 10, 11, 20, 22, 44, 55 and 110, \n",
    "    of which the sum is 284;\n",
    "    and the proper divisors of 284 are 1, 2, 4, 71 and 142, of which the sum is 220\n",
    "    '''\n",
    "    amic = [(i,j) for i in range(1,n) \n",
    "           for j in (sum(proper_divisors(i)),) \n",
    "           if (j>i) & (sum(proper_divisors(j)) == i)]\n",
    "    return amic"
   ]
  },
  {
   "cell_type": "code",
   "execution_count": 11,
   "id": "44d2d322",
   "metadata": {},
   "outputs": [
    {
     "name": "stdout",
     "output_type": "stream",
     "text": [
      "[(220, 284)]\n",
      "[(220, 284), (1184, 1210), (2620, 2924), (5020, 5564), (6232, 6368)]\n"
     ]
    }
   ],
   "source": [
    "print(amicable_numbers(1000))\n",
    "print(amicable_numbers(10000))"
   ]
  },
  {
   "cell_type": "code",
   "execution_count": 12,
   "id": "1965f57a",
   "metadata": {},
   "outputs": [
    {
     "name": "stdout",
     "output_type": "stream",
     "text": [
      "37.9 ms ± 0 ns per loop (mean ± std. dev. of 1 run, 10 loops each)\n",
      "4.14 s ± 0 ns per loop (mean ± std. dev. of 1 run, 1 loop each)\n"
     ]
    }
   ],
   "source": [
    "%timeit -r1 amicable_numbers(1000)\n",
    "%timeit -r1 amicable_numbers(10000)"
   ]
  },
  {
   "cell_type": "markdown",
   "id": "d0b9ec94",
   "metadata": {},
   "source": [
    "<a id='dictjoin'></a>\n",
    "## <font color=blue>*Exercise 3 File I/O & Dicts*</font>\n",
    "### Read MovieLens data, merge files, calc avg movie rating & write to file  "
   ]
  },
  {
   "cell_type": "code",
   "execution_count": 13,
   "id": "c1e5f17f",
   "metadata": {},
   "outputs": [],
   "source": [
    "from collections import defaultdict\n",
    "from statistics import mean\n",
    "import os"
   ]
  },
  {
   "cell_type": "code",
   "execution_count": 14,
   "id": "7d4c1839",
   "metadata": {},
   "outputs": [],
   "source": [
    "def read_u_data(data_file='u.data', encoding='utf-8'):\n",
    "    '''\n",
    "    Read the data from the file and return the details as a Dictionary containing a Movie with MovieID as key\n",
    "    and a list of all of it's corresponding ratings as the values.\n",
    "    '''\n",
    "    with open(data_file,'r',encoding=encoding) as data:\n",
    "        datalst = [line.split() for line in data]\n",
    "     \n",
    "    ratings = defaultdict(list)\n",
    "    for _,key,val,*_ in datalst:\n",
    "        ratings[key].append(int(val))    \n",
    "        \n",
    "    return ratings"
   ]
  },
  {
   "cell_type": "code",
   "execution_count": 15,
   "id": "05fba127",
   "metadata": {},
   "outputs": [],
   "source": [
    "def calculate_avg_u_data_rating(d):\n",
    "    '''\n",
    "    Takes a dictionary & returns another dictionary with Movie and the corresponding average of all of it's ratings.\n",
    "    '''\n",
    "    return {key:round(mean(d.get(key)),3) for key in d.keys()}"
   ]
  },
  {
   "cell_type": "code",
   "execution_count": 16,
   "id": "c4970d8e",
   "metadata": {},
   "outputs": [],
   "source": [
    "def read_u_item(data_file='u.item', encoding='latin-1'):\n",
    "    '''\n",
    "    Read the data from the file and return the details as a Dictionary containing a Movie with MovieID as key\n",
    "    and its title as the values.\n",
    "    '''\n",
    "    with open(data_file,'r',encoding=encoding) as item:\n",
    "        itemlst = [line.split(\"|\") for line in item]\n",
    "        \n",
    "    return {itemid:title for itemid,title,*_ in itemlst}"
   ]
  },
  {
   "cell_type": "code",
   "execution_count": 17,
   "id": "435d0ca5",
   "metadata": {},
   "outputs": [],
   "source": [
    "def write_ratings(u_data_avg, u_item, fname='movie-ratings.txt'):\n",
    "    '''\n",
    "    Joins the two dictionaries given and writes output a txt file with the movieid,avg-rating & movie title\n",
    "    details.\n",
    "    '''\n",
    "    \n",
    "    allinfo = [(k,round(u_data_avg[k],2),u_item[k]) for k in u_data_avg.keys()]\n",
    "    allinfo_sorted = sorted(allinfo, key = lambda x: (-x[1],x[2]))\n",
    "    \n",
    "    with open(fname, \"w\") as output:\n",
    "        \n",
    "        output.write('\\n'.join('   '.join(map(str, movie)) for movie in allinfo_sorted))\n",
    "    \n",
    "    return allinfo_sorted"
   ]
  },
  {
   "cell_type": "code",
   "execution_count": 18,
   "id": "054834ca",
   "metadata": {},
   "outputs": [
    {
     "data": {
      "text/plain": [
       "[('1536', 5, 'Aiqing wansui (1994)'),\n",
       " ('1653', 5, 'Entertaining Angels: The Dorothy Day Story (1996)'),\n",
       " ('814', 5, 'Great Day in Harlem, A (1994)'),\n",
       " ('1201', 5, 'Marlene Dietrich: Shadow and Light (1996) '),\n",
       " ('1189', 5, 'Prefontaine (1997)'),\n",
       " ('1467', 5, 'Saint of Fort Washington, The (1993)'),\n",
       " ('1500', 5, 'Santa with Muscles (1996)'),\n",
       " ('1599', 5, \"Someone Else's America (1995)\"),\n",
       " ('1293', 5, 'Star Kid (1997)'),\n",
       " ('1122', 5, 'They Made Me a Criminal (1939)')]"
      ]
     },
     "execution_count": 18,
     "metadata": {},
     "output_type": "execute_result"
    }
   ],
   "source": [
    "d1 = read_u_data()\n",
    "d2 = calculate_avg_u_data_rating(d1)\n",
    "u = read_u_item()\n",
    "write_ratings(d2, u)[:10]"
   ]
  },
  {
   "cell_type": "markdown",
   "id": "d3aecd5c",
   "metadata": {},
   "source": [
    "### Total of 1682 lines in the output file as that is the count of the unique number of movies in the dataset. "
   ]
  },
  {
   "cell_type": "markdown",
   "id": "77614d82",
   "metadata": {},
   "source": [
    "## <font color=blue>*Exercise 4 One Hot Encoding*</font>\n",
    "### Encoding N nominal values using N bits "
   ]
  },
  {
   "cell_type": "code",
   "execution_count": 19,
   "id": "600dc3e8",
   "metadata": {},
   "outputs": [],
   "source": [
    "def one_hot_encoding(nomarr):\n",
    "    '''\n",
    "    Takes the N unique nominal values in the nomarray and encodes each value with N bits.\n",
    "    1 bit is set for each unique value.\n",
    "    Example: \n",
    "    ['alpha','beta', 'gamma'] \n",
    "    returns \n",
    "    [['alpha', [1, 0, 0]], ['beta', [0, 1, 0]], ['gamma', [0, 0, 1]]]\n",
    "    '''\n",
    "    \n",
    "    results= []\n",
    "    for item in nomarr:\n",
    "        onehotitem = [0]*len(set(nomarr))\n",
    "        onehotitem[nomarr.index(item)] = 1\n",
    "        results.append([item,onehotitem])\n",
    "    return results\n",
    "    "
   ]
  },
  {
   "cell_type": "code",
   "execution_count": 20,
   "id": "79163f23",
   "metadata": {},
   "outputs": [
    {
     "data": {
      "text/plain": [
       "[['ford', [1, 0, 0, 0, 0]],\n",
       " ['honda', [0, 1, 0, 0, 0]],\n",
       " ['toyota', [0, 0, 1, 0, 0]],\n",
       " ['mazda', [0, 0, 0, 1, 0]],\n",
       " ['subaru', [0, 0, 0, 0, 1]]]"
      ]
     },
     "execution_count": 20,
     "metadata": {},
     "output_type": "execute_result"
    }
   ],
   "source": [
    "one_hot_encoding(['ford','honda', 'toyota', 'mazda', 'subaru'])"
   ]
  },
  {
   "cell_type": "code",
   "execution_count": 21,
   "id": "9dfdb0cc",
   "metadata": {},
   "outputs": [
    {
     "data": {
      "text/plain": [
       "[['alpha', [1, 0, 0]],\n",
       " ['beta', [0, 1, 0]],\n",
       " ['gamma', [0, 0, 1]],\n",
       " ['alpha', [1, 0, 0]]]"
      ]
     },
     "execution_count": 21,
     "metadata": {},
     "output_type": "execute_result"
    }
   ],
   "source": [
    "one_hot_encoding(['alpha','beta', 'gamma','alpha'])"
   ]
  },
  {
   "cell_type": "markdown",
   "id": "7f7765cf",
   "metadata": {},
   "source": [
    "<a id='enumerate'></a>\n",
    "## <font color=blue>*Exercise 5 Dense to Sparse Matrix Conversion*</font>\n",
    "### Represent dense matrix as a list of triplet of form (row index,column index, value) "
   ]
  },
  {
   "cell_type": "code",
   "execution_count": 22,
   "id": "109d51e9",
   "metadata": {},
   "outputs": [],
   "source": [
    "def dense2sparse(m):\n",
    "    '''\n",
    "    Takes a dense matrix and convert the matrix into a sparse form where the non-zero values are stored as a list of \n",
    "    triplet of form (row index, column index, value). The order of the triplets does not matter\n",
    "    '''\n",
    "    ans = [(i,j,val) for i,row in enumerate(m) \n",
    "                     for j,val in enumerate(row) if val != 0]\n",
    "    return ans"
   ]
  },
  {
   "cell_type": "code",
   "execution_count": 23,
   "id": "46d50c93",
   "metadata": {},
   "outputs": [
    {
     "name": "stdout",
     "output_type": "stream",
     "text": [
      "[(0, 0, 1), (0, 2, 2), (1, 2, 3)]\n",
      "[(0, 0, 1), (0, 2, 2), (1, 2, 3), (2, 1, 1), (2, 2, 2)]\n"
     ]
    }
   ],
   "source": [
    "print(dense2sparse([[1, 0, 2],[0, 0, 3]]))\n",
    "print(dense2sparse([[1, 0, 2],[0, 0, 3],[0,1,2]]))"
   ]
  },
  {
   "cell_type": "markdown",
   "id": "6426fa5b",
   "metadata": {},
   "source": [
    "## <font color=blue>*Exercise 6 Probability of Dice Throws*</font>\n",
    "### Simulate throws of dices and compute probability of required events "
   ]
  },
  {
   "cell_type": "code",
   "execution_count": 24,
   "id": "8063b978",
   "metadata": {},
   "outputs": [],
   "source": [
    "import random"
   ]
  },
  {
   "cell_type": "code",
   "execution_count": 25,
   "id": "779f4907",
   "metadata": {},
   "outputs": [],
   "source": [
    "def dice():\n",
    "    '''\n",
    "    Simulate the throw of dice by returning a random number between 1 and 6\n",
    "    '''\n",
    "    return random.randint(1,6)\n",
    "    "
   ]
  },
  {
   "cell_type": "code",
   "execution_count": 26,
   "id": "a7603b95",
   "metadata": {},
   "outputs": [],
   "source": [
    "def six_in_4():\n",
    "    '''\n",
    "    Simulate 4 dice throws and returns True if 6 occurs, False if it doesn't\n",
    "    '''\n",
    "    occur = 6 in [dice() for i in range(1,5)]\n",
    "    return occur"
   ]
  },
  {
   "cell_type": "code",
   "execution_count": 27,
   "id": "d1f50ef8",
   "metadata": {},
   "outputs": [],
   "source": [
    "def two_six_in_24():\n",
    "    '''\n",
    "    Simulate 24 throws of 2 dices and returns True if pair of 6's occur (6,6), otherwise false\n",
    "    '''\n",
    "    occur = (6,6) in [(dice(),dice()) for i in range(1,25)]\n",
    "    return occur"
   ]
  },
  {
   "cell_type": "code",
   "execution_count": 28,
   "id": "91c8bfb3",
   "metadata": {},
   "outputs": [],
   "source": [
    "def prob_question(n=1000):\n",
    "    '''\n",
    "    Perform the 2 simulations n times and return the prob of occurance of both events as a tuple \n",
    "    of form (prob of event 1, prob of event 2).\n",
    "    If no n specified, it default to 1000 simulations.\n",
    "    '''\n",
    "    event1 = [six_in_4() for i in range(1,1+n)].count(True)\n",
    "    event2 = [two_six_in_24() for i in range(1,1+n)].count(True)\n",
    "    return ((event1/n),(event2/n))"
   ]
  },
  {
   "cell_type": "code",
   "execution_count": 29,
   "id": "4ff3b8ba",
   "metadata": {},
   "outputs": [
    {
     "name": "stdout",
     "output_type": "stream",
     "text": [
      "(0.5154, 0.4959)\n"
     ]
    }
   ],
   "source": [
    "print(prob_question(n=10000))"
   ]
  },
  {
   "cell_type": "markdown",
   "id": "c664289e",
   "metadata": {},
   "source": [
    "<a id='closure'></a>\n",
    "## <font color=blue>*Exercise 7 Closure Algorithm*</font>\n",
    "### Find the Closure of a Set of Attributes"
   ]
  },
  {
   "cell_type": "code",
   "execution_count": 30,
   "id": "2975c9f3",
   "metadata": {},
   "outputs": [],
   "source": [
    "def lhs(tup):\n",
    "    '''\n",
    "    Split the tuple FD and return the Left Hand Side of the FD as set\n",
    "    '''\n",
    "    return tup[0]"
   ]
  },
  {
   "cell_type": "code",
   "execution_count": 31,
   "id": "d23970b0",
   "metadata": {},
   "outputs": [],
   "source": [
    "def rhs(tup):\n",
    "    '''\n",
    "    Split the tuple FD and return the Right Hand Side of the FD as set\n",
    "    '''\n",
    "    return tup[1]"
   ]
  },
  {
   "cell_type": "code",
   "execution_count": 32,
   "id": "ded88b3d",
   "metadata": {},
   "outputs": [],
   "source": [
    "def parse_fd(fd):\n",
    "    '''\n",
    "    Takes the String representation of a functional dependency and returns a tuple of sets\n",
    "    representing LHS and RHS of the FD. \n",
    "    '''\n",
    "\n",
    "    tupfd = (set(fd.split('->')[0].strip().split()),set(fd.split('->')[1].strip().split()))\n",
    "    return tupfd"
   ]
  },
  {
   "cell_type": "code",
   "execution_count": 33,
   "id": "69b7f116",
   "metadata": {},
   "outputs": [],
   "source": [
    "def closure(FD, att):\n",
    "    '''\n",
    "    Takes the set of attributes att and all Functional Dependencies FD to determine the closure of the given set. \n",
    "    It returns the closure set of the given attributes.  \n",
    "    '''\n",
    " \n",
    "    attset = set(att.strip().split())\n",
    "    attlst = [a.strip() for a in att.strip().split()]\n",
    "    newlst = []\n",
    "    fds = [parse_fd(line.strip()) for line in FD.split('\\n')]\n",
    "\n",
    "\n",
    "    for fd in fds:\n",
    "        if lhs(fd).issubset(attset):\n",
    "            newlst.append(next(iter(rhs(fd))))\n",
    "            newlst += [next(iter(rhs(fd))) for fd in fds \n",
    "                                            if lhs(fd).issubset(set(newlst))]  \n",
    " \n",
    "    return (set(newlst+attlst))\n",
    "        "
   ]
  },
  {
   "cell_type": "code",
   "execution_count": 34,
   "id": "a9002806",
   "metadata": {},
   "outputs": [
    {
     "data": {
      "text/plain": [
       "{'A', 'D', 'E'}"
      ]
     },
     "execution_count": 34,
     "metadata": {},
     "output_type": "execute_result"
    }
   ],
   "source": [
    "FDs_1 = ''' A B -> C \n",
    "A -> D \n",
    "D -> E \n",
    "A C -> B '''\n",
    "\n",
    "closure(FDs_1, 'A')"
   ]
  },
  {
   "cell_type": "code",
   "execution_count": 35,
   "id": "19736948",
   "metadata": {},
   "outputs": [
    {
     "data": {
      "text/plain": [
       "{'A', 'B', 'C', 'D', 'E'}"
      ]
     },
     "execution_count": 35,
     "metadata": {},
     "output_type": "execute_result"
    }
   ],
   "source": [
    "closure(FDs_1, 'A B')"
   ]
  },
  {
   "cell_type": "code",
   "execution_count": 36,
   "id": "fc481b61",
   "metadata": {},
   "outputs": [
    {
     "data": {
      "text/plain": [
       "{'B'}"
      ]
     },
     "execution_count": 36,
     "metadata": {},
     "output_type": "execute_result"
    }
   ],
   "source": [
    "closure(FDs_1, 'B')"
   ]
  },
  {
   "cell_type": "markdown",
   "id": "ddddbc26",
   "metadata": {},
   "source": [
    "## References\n",
    "1. **[Ex2 ln[10]](#varincomp)** https://stackoverflow.com/questions/26672532/how-to-set-local-variable-in-list-comprehension/55881984\n",
    "2. **[Ex3 ln[17]](#dictjoin)** https://stackoverflow.com/questions/5946236/how-to-merge-multiple-dicts-with-same-key-or-different-key\n",
    "3. **[Ex5 ln[22]](#enumerate)** https://realpython.com/python-enumerate/ \n",
    "4. **[Ex7](#closure)** https://vertabelo.com/blog/closure-of-a-set-of-attributes/"
   ]
  },
  {
   "cell_type": "code",
   "execution_count": null,
   "id": "39ef2787",
   "metadata": {},
   "outputs": [],
   "source": []
  }
 ],
 "metadata": {
  "kernelspec": {
   "display_name": "Python 3 (ipykernel)",
   "language": "python",
   "name": "python3"
  },
  "language_info": {
   "codemirror_mode": {
    "name": "ipython",
    "version": 3
   },
   "file_extension": ".py",
   "mimetype": "text/x-python",
   "name": "python",
   "nbconvert_exporter": "python",
   "pygments_lexer": "ipython3",
   "version": "3.8.12"
  }
 },
 "nbformat": 4,
 "nbformat_minor": 5
}
