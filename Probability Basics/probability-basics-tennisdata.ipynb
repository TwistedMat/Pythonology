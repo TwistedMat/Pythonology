{
 "cells": [
  {
   "cell_type": "markdown",
   "id": "412d4de0",
   "metadata": {},
   "source": [
    "<h1> Name: Eshan Mehrotra"
   ]
  },
  {
   "cell_type": "code",
   "execution_count": 1,
   "id": "ddc2bb5b",
   "metadata": {},
   "outputs": [],
   "source": [
    "import pandas as pd"
   ]
  },
  {
   "cell_type": "markdown",
   "id": "f139a3e9",
   "metadata": {},
   "source": [
    "## Data Read and Setup"
   ]
  },
  {
   "cell_type": "code",
   "execution_count": 2,
   "id": "dca231fb",
   "metadata": {},
   "outputs": [
    {
     "data": {
      "text/html": [
       "<div>\n",
       "<style scoped>\n",
       "    .dataframe tbody tr th:only-of-type {\n",
       "        vertical-align: middle;\n",
       "    }\n",
       "\n",
       "    .dataframe tbody tr th {\n",
       "        vertical-align: top;\n",
       "    }\n",
       "\n",
       "    .dataframe thead th {\n",
       "        text-align: right;\n",
       "    }\n",
       "</style>\n",
       "<table border=\"1\" class=\"dataframe\">\n",
       "  <thead>\n",
       "    <tr style=\"text-align: right;\">\n",
       "      <th></th>\n",
       "      <th>day</th>\n",
       "      <th>outlook</th>\n",
       "      <th>temp</th>\n",
       "      <th>humidity</th>\n",
       "      <th>wind</th>\n",
       "      <th>play</th>\n",
       "    </tr>\n",
       "  </thead>\n",
       "  <tbody>\n",
       "    <tr>\n",
       "      <th>0</th>\n",
       "      <td>d1</td>\n",
       "      <td>sunny</td>\n",
       "      <td>hot</td>\n",
       "      <td>high</td>\n",
       "      <td>weak</td>\n",
       "      <td>no</td>\n",
       "    </tr>\n",
       "    <tr>\n",
       "      <th>1</th>\n",
       "      <td>d2</td>\n",
       "      <td>sunny</td>\n",
       "      <td>hot</td>\n",
       "      <td>high</td>\n",
       "      <td>strong</td>\n",
       "      <td>no</td>\n",
       "    </tr>\n",
       "    <tr>\n",
       "      <th>2</th>\n",
       "      <td>d3</td>\n",
       "      <td>overcast</td>\n",
       "      <td>hot</td>\n",
       "      <td>high</td>\n",
       "      <td>weak</td>\n",
       "      <td>yes</td>\n",
       "    </tr>\n",
       "    <tr>\n",
       "      <th>3</th>\n",
       "      <td>d4</td>\n",
       "      <td>rainy</td>\n",
       "      <td>mild</td>\n",
       "      <td>high</td>\n",
       "      <td>weak</td>\n",
       "      <td>yes</td>\n",
       "    </tr>\n",
       "    <tr>\n",
       "      <th>4</th>\n",
       "      <td>d5</td>\n",
       "      <td>rainy</td>\n",
       "      <td>cool</td>\n",
       "      <td>normal</td>\n",
       "      <td>weak</td>\n",
       "      <td>yes</td>\n",
       "    </tr>\n",
       "    <tr>\n",
       "      <th>5</th>\n",
       "      <td>d6</td>\n",
       "      <td>rainy</td>\n",
       "      <td>cool</td>\n",
       "      <td>normal</td>\n",
       "      <td>strong</td>\n",
       "      <td>no</td>\n",
       "    </tr>\n",
       "    <tr>\n",
       "      <th>6</th>\n",
       "      <td>d7</td>\n",
       "      <td>overcast</td>\n",
       "      <td>cool</td>\n",
       "      <td>normal</td>\n",
       "      <td>strong</td>\n",
       "      <td>yes</td>\n",
       "    </tr>\n",
       "    <tr>\n",
       "      <th>7</th>\n",
       "      <td>d8</td>\n",
       "      <td>sunny</td>\n",
       "      <td>mild</td>\n",
       "      <td>high</td>\n",
       "      <td>weak</td>\n",
       "      <td>no</td>\n",
       "    </tr>\n",
       "    <tr>\n",
       "      <th>8</th>\n",
       "      <td>d9</td>\n",
       "      <td>sunny</td>\n",
       "      <td>cool</td>\n",
       "      <td>normal</td>\n",
       "      <td>weak</td>\n",
       "      <td>yes</td>\n",
       "    </tr>\n",
       "    <tr>\n",
       "      <th>9</th>\n",
       "      <td>d10</td>\n",
       "      <td>rainy</td>\n",
       "      <td>mild</td>\n",
       "      <td>normal</td>\n",
       "      <td>weak</td>\n",
       "      <td>yes</td>\n",
       "    </tr>\n",
       "    <tr>\n",
       "      <th>10</th>\n",
       "      <td>d11</td>\n",
       "      <td>sunny</td>\n",
       "      <td>mild</td>\n",
       "      <td>normal</td>\n",
       "      <td>strong</td>\n",
       "      <td>yes</td>\n",
       "    </tr>\n",
       "    <tr>\n",
       "      <th>11</th>\n",
       "      <td>d12</td>\n",
       "      <td>overcast</td>\n",
       "      <td>mild</td>\n",
       "      <td>high</td>\n",
       "      <td>strong</td>\n",
       "      <td>yes</td>\n",
       "    </tr>\n",
       "    <tr>\n",
       "      <th>12</th>\n",
       "      <td>d13</td>\n",
       "      <td>overcast</td>\n",
       "      <td>hot</td>\n",
       "      <td>normal</td>\n",
       "      <td>weak</td>\n",
       "      <td>yes</td>\n",
       "    </tr>\n",
       "    <tr>\n",
       "      <th>13</th>\n",
       "      <td>d14</td>\n",
       "      <td>rainy</td>\n",
       "      <td>mild</td>\n",
       "      <td>high</td>\n",
       "      <td>strong</td>\n",
       "      <td>no</td>\n",
       "    </tr>\n",
       "  </tbody>\n",
       "</table>\n",
       "</div>"
      ],
      "text/plain": [
       "    day   outlook  temp humidity    wind play\n",
       "0    d1     sunny   hot     high    weak   no\n",
       "1    d2     sunny   hot     high  strong   no\n",
       "2    d3  overcast   hot     high    weak  yes\n",
       "3    d4     rainy  mild     high    weak  yes\n",
       "4    d5     rainy  cool   normal    weak  yes\n",
       "5    d6     rainy  cool   normal  strong   no\n",
       "6    d7  overcast  cool   normal  strong  yes\n",
       "7    d8     sunny  mild     high    weak   no\n",
       "8    d9     sunny  cool   normal    weak  yes\n",
       "9   d10     rainy  mild   normal    weak  yes\n",
       "10  d11     sunny  mild   normal  strong  yes\n",
       "11  d12  overcast  mild     high  strong  yes\n",
       "12  d13  overcast   hot   normal    weak  yes\n",
       "13  d14     rainy  mild     high  strong   no"
      ]
     },
     "execution_count": 2,
     "metadata": {},
     "output_type": "execute_result"
    }
   ],
   "source": [
    "df = pd.read_csv('data/tennis.txt', sep='\\s+')\n",
    "df"
   ]
  },
  {
   "cell_type": "code",
   "execution_count": 3,
   "id": "f2b3b775",
   "metadata": {},
   "outputs": [
    {
     "name": "stdout",
     "output_type": "stream",
     "text": [
      "<class 'pandas.core.frame.DataFrame'>\n",
      "RangeIndex: 14 entries, 0 to 13\n",
      "Data columns (total 6 columns):\n",
      " #   Column    Non-Null Count  Dtype \n",
      "---  ------    --------------  ----- \n",
      " 0   day       14 non-null     object\n",
      " 1   outlook   14 non-null     object\n",
      " 2   temp      14 non-null     object\n",
      " 3   humidity  14 non-null     object\n",
      " 4   wind      14 non-null     object\n",
      " 5   play      14 non-null     object\n",
      "dtypes: object(6)\n",
      "memory usage: 800.0+ bytes\n"
     ]
    }
   ],
   "source": [
    "df.info()"
   ]
  },
  {
   "cell_type": "code",
   "execution_count": 4,
   "id": "36430f99",
   "metadata": {},
   "outputs": [
    {
     "data": {
      "text/html": [
       "<div>\n",
       "<style scoped>\n",
       "    .dataframe tbody tr th:only-of-type {\n",
       "        vertical-align: middle;\n",
       "    }\n",
       "\n",
       "    .dataframe tbody tr th {\n",
       "        vertical-align: top;\n",
       "    }\n",
       "\n",
       "    .dataframe thead th {\n",
       "        text-align: right;\n",
       "    }\n",
       "</style>\n",
       "<table border=\"1\" class=\"dataframe\">\n",
       "  <thead>\n",
       "    <tr style=\"text-align: right;\">\n",
       "      <th></th>\n",
       "      <th>day</th>\n",
       "      <th>outlook</th>\n",
       "      <th>temp</th>\n",
       "      <th>humidity</th>\n",
       "      <th>wind</th>\n",
       "      <th>play</th>\n",
       "    </tr>\n",
       "  </thead>\n",
       "  <tbody>\n",
       "    <tr>\n",
       "      <th>count</th>\n",
       "      <td>14</td>\n",
       "      <td>14</td>\n",
       "      <td>14</td>\n",
       "      <td>14</td>\n",
       "      <td>14</td>\n",
       "      <td>14</td>\n",
       "    </tr>\n",
       "    <tr>\n",
       "      <th>unique</th>\n",
       "      <td>14</td>\n",
       "      <td>3</td>\n",
       "      <td>3</td>\n",
       "      <td>2</td>\n",
       "      <td>2</td>\n",
       "      <td>2</td>\n",
       "    </tr>\n",
       "    <tr>\n",
       "      <th>top</th>\n",
       "      <td>d1</td>\n",
       "      <td>sunny</td>\n",
       "      <td>mild</td>\n",
       "      <td>high</td>\n",
       "      <td>weak</td>\n",
       "      <td>yes</td>\n",
       "    </tr>\n",
       "    <tr>\n",
       "      <th>freq</th>\n",
       "      <td>1</td>\n",
       "      <td>5</td>\n",
       "      <td>6</td>\n",
       "      <td>7</td>\n",
       "      <td>8</td>\n",
       "      <td>9</td>\n",
       "    </tr>\n",
       "  </tbody>\n",
       "</table>\n",
       "</div>"
      ],
      "text/plain": [
       "       day outlook  temp humidity  wind play\n",
       "count   14      14    14       14    14   14\n",
       "unique  14       3     3        2     2    2\n",
       "top     d1   sunny  mild     high  weak  yes\n",
       "freq     1       5     6        7     8    9"
      ]
     },
     "execution_count": 4,
     "metadata": {},
     "output_type": "execute_result"
    }
   ],
   "source": [
    "df.describe()"
   ]
  },
  {
   "cell_type": "code",
   "execution_count": 5,
   "id": "1fb8033a",
   "metadata": {},
   "outputs": [
    {
     "data": {
      "text/plain": [
       "RangeIndex(start=0, stop=14, step=1)"
      ]
     },
     "execution_count": 5,
     "metadata": {},
     "output_type": "execute_result"
    }
   ],
   "source": [
    "df.index"
   ]
  },
  {
   "cell_type": "code",
   "execution_count": 6,
   "id": "3684d42a",
   "metadata": {},
   "outputs": [
    {
     "data": {
      "text/plain": [
       "Index(['day', 'outlook', 'temp', 'humidity', 'wind', 'play'], dtype='object')"
      ]
     },
     "execution_count": 6,
     "metadata": {},
     "output_type": "execute_result"
    }
   ],
   "source": [
    "df.columns"
   ]
  },
  {
   "cell_type": "code",
   "execution_count": 7,
   "id": "4c2ab98e",
   "metadata": {},
   "outputs": [
    {
     "data": {
      "text/html": [
       "<div>\n",
       "<style scoped>\n",
       "    .dataframe tbody tr th:only-of-type {\n",
       "        vertical-align: middle;\n",
       "    }\n",
       "\n",
       "    .dataframe tbody tr th {\n",
       "        vertical-align: top;\n",
       "    }\n",
       "\n",
       "    .dataframe thead th {\n",
       "        text-align: right;\n",
       "    }\n",
       "</style>\n",
       "<table border=\"1\" class=\"dataframe\">\n",
       "  <thead>\n",
       "    <tr style=\"text-align: right;\">\n",
       "      <th></th>\n",
       "      <th>outlook</th>\n",
       "      <th>temp</th>\n",
       "      <th>humidity</th>\n",
       "      <th>wind</th>\n",
       "      <th>play</th>\n",
       "    </tr>\n",
       "    <tr>\n",
       "      <th>day</th>\n",
       "      <th></th>\n",
       "      <th></th>\n",
       "      <th></th>\n",
       "      <th></th>\n",
       "      <th></th>\n",
       "    </tr>\n",
       "  </thead>\n",
       "  <tbody>\n",
       "    <tr>\n",
       "      <th>d1</th>\n",
       "      <td>sunny</td>\n",
       "      <td>hot</td>\n",
       "      <td>high</td>\n",
       "      <td>weak</td>\n",
       "      <td>no</td>\n",
       "    </tr>\n",
       "    <tr>\n",
       "      <th>d2</th>\n",
       "      <td>sunny</td>\n",
       "      <td>hot</td>\n",
       "      <td>high</td>\n",
       "      <td>strong</td>\n",
       "      <td>no</td>\n",
       "    </tr>\n",
       "    <tr>\n",
       "      <th>d3</th>\n",
       "      <td>overcast</td>\n",
       "      <td>hot</td>\n",
       "      <td>high</td>\n",
       "      <td>weak</td>\n",
       "      <td>yes</td>\n",
       "    </tr>\n",
       "    <tr>\n",
       "      <th>d4</th>\n",
       "      <td>rainy</td>\n",
       "      <td>mild</td>\n",
       "      <td>high</td>\n",
       "      <td>weak</td>\n",
       "      <td>yes</td>\n",
       "    </tr>\n",
       "    <tr>\n",
       "      <th>d5</th>\n",
       "      <td>rainy</td>\n",
       "      <td>cool</td>\n",
       "      <td>normal</td>\n",
       "      <td>weak</td>\n",
       "      <td>yes</td>\n",
       "    </tr>\n",
       "  </tbody>\n",
       "</table>\n",
       "</div>"
      ],
      "text/plain": [
       "      outlook  temp humidity    wind play\n",
       "day                                      \n",
       "d1      sunny   hot     high    weak   no\n",
       "d2      sunny   hot     high  strong   no\n",
       "d3   overcast   hot     high    weak  yes\n",
       "d4      rainy  mild     high    weak  yes\n",
       "d5      rainy  cool   normal    weak  yes"
      ]
     },
     "execution_count": 7,
     "metadata": {},
     "output_type": "execute_result"
    }
   ],
   "source": [
    "df = df.set_index('day')\n",
    "df.head()"
   ]
  },
  {
   "cell_type": "code",
   "execution_count": 8,
   "id": "fdfdafb6",
   "metadata": {},
   "outputs": [
    {
     "data": {
      "text/plain": [
       "Index(['d1', 'd2', 'd3', 'd4', 'd5', 'd6', 'd7', 'd8', 'd9', 'd10', 'd11',\n",
       "       'd12', 'd13', 'd14'],\n",
       "      dtype='object', name='day')"
      ]
     },
     "execution_count": 8,
     "metadata": {},
     "output_type": "execute_result"
    }
   ],
   "source": [
    "df.index"
   ]
  },
  {
   "cell_type": "markdown",
   "id": "55bf4c97",
   "metadata": {},
   "source": [
    "## Function Definitions"
   ]
  },
  {
   "cell_type": "code",
   "execution_count": 9,
   "id": "85fbc77e",
   "metadata": {},
   "outputs": [],
   "source": [
    "def parse_features(s):\n",
    "    '''\n",
    "    Parse the string s to return the expressions dictionaries of Given and Event params.\n",
    "    Event and Given params are seperated by |.\n",
    "    Individual expression has feature name and value seperated by =\n",
    "    Feature Name is Key and it's Value is the Dictionary Value\n",
    "    '''\n",
    "    is_cond = False\n",
    "    if (\"|\" in s):\n",
    "        is_cond = True\n",
    "        expeve,expgiv = [e.strip() for e in s.strip().split(\"|\")]\n",
    "        givenlst = [y.strip() for x in expgiv.split(\",\") for y in x.split(\"=\")]\n",
    "    else:\n",
    "        expeve = s.strip()\n",
    "        \n",
    "    eventlst = [y.strip() for x in expeve.split(\",\") for y in x.split(\"=\")]\n",
    "    evedict = {eventlst[i]:eventlst[i+1] for i in range(0,len(eventlst),2)}\n",
    "    \n",
    "    if is_cond:\n",
    "        givdict = {givenlst[i]:givenlst[i+1] for i in range(0,len(givenlst),2)}\n",
    "    else:\n",
    "        givdict = {}\n",
    "    \n",
    "    return (evedict,givdict)"
   ]
  },
  {
   "cell_type": "code",
   "execution_count": 10,
   "id": "7a12363b",
   "metadata": {},
   "outputs": [],
   "source": [
    "def compute_exp(ed,gd):\n",
    "    '''\n",
    "    Computes the Event Mask and Given mask and returns them as strings from the event and given dictionaries \n",
    "    '''\n",
    "    eventsexp_str = \" & \".join([str(\"(df['\" + k + \"']=='\" + v + \"')\") for k,v in ed.items()])\n",
    "    \n",
    "#   Check if gd dict is not empty - Empty when no conditional prob\n",
    "    if (gd):    \n",
    "        givexp_str = \" & \".join([str(\"(df['\" + k + \"']=='\" + v + \"')\") for k,v in gd.items()])\n",
    "    else:\n",
    "        givexp_str = ''\n",
    "        \n",
    "    return (eventsexp_str,givexp_str)"
   ]
  },
  {
   "cell_type": "code",
   "execution_count": 11,
   "id": "f2c95895",
   "metadata": {},
   "outputs": [],
   "source": [
    "def probability(df):\n",
    "    '''\n",
    "    Takes the Dataframe as input and return a function which can compute probability of any expression\n",
    "    using the p(s) function based on the data in the df.\n",
    "    '''\n",
    "    def p(s):\n",
    "        '''\n",
    "        Takes the string s which contains the expression and calculates probability of that expression based\n",
    "        on the Dataframe passed to probability(df).\n",
    "        Whitespaces in s are handled by parse_features(s).\n",
    "        compute(exp) generates the masks for the dataframe based on the expression passed. \n",
    "        '''\n",
    "        eventdict,givendict = parse_features(s)\n",
    "        event_mask,given_mask = compute_exp(eventdict,givendict)\n",
    "                 \n",
    "        if (\"|\" in s):\n",
    "            # P(Event|Given) = 0 if P(Given) = 0\n",
    "            if (len(df[eval(given_mask)])==0):\n",
    "                ans = 0\n",
    "            else:\n",
    "                ans = len(df[eval(event_mask + ' & '+ given_mask)])/len(df[eval(given_mask)])\n",
    "        else:\n",
    "            ans = len(df[eval(event_mask)])/len(df)\n",
    "        return ans\n",
    "    return p"
   ]
  },
  {
   "cell_type": "markdown",
   "id": "1b47bb82",
   "metadata": {},
   "source": [
    "## Probability Calculations - Function Tests"
   ]
  },
  {
   "cell_type": "code",
   "execution_count": 12,
   "id": "74e23cef",
   "metadata": {},
   "outputs": [
    {
     "name": "stdout",
     "output_type": "stream",
     "text": [
      "0.6428571428571429\n"
     ]
    }
   ],
   "source": [
    "p = probability(df)\n",
    "print( p('play=yes') )"
   ]
  },
  {
   "cell_type": "code",
   "execution_count": 13,
   "id": "a2c1e9fa",
   "metadata": {},
   "outputs": [
    {
     "name": "stdout",
     "output_type": "stream",
     "text": [
      "0.35714285714285715\n"
     ]
    }
   ],
   "source": [
    "p = probability(df)\n",
    "print( p(' play = no ') )"
   ]
  },
  {
   "cell_type": "code",
   "execution_count": 14,
   "id": "f9aea660",
   "metadata": {},
   "outputs": [
    {
     "name": "stdout",
     "output_type": "stream",
     "text": [
      "0.2222222222222222\n"
     ]
    }
   ],
   "source": [
    "p = probability(df)\n",
    "print(p('outlook = sunny | play = yes'))"
   ]
  },
  {
   "cell_type": "code",
   "execution_count": 15,
   "id": "54cf70c0",
   "metadata": {},
   "outputs": [
    {
     "name": "stdout",
     "output_type": "stream",
     "text": [
      "0.6666666666666666\n"
     ]
    }
   ],
   "source": [
    "p=probability(df)\n",
    "print(p('play=no | outlook=sunny, wind = weak'))"
   ]
  },
  {
   "cell_type": "code",
   "execution_count": 16,
   "id": "43583092",
   "metadata": {},
   "outputs": [
    {
     "name": "stdout",
     "output_type": "stream",
     "text": [
      "0.4\n"
     ]
    }
   ],
   "source": [
    "print(p('outlook=rainy | play=no'))"
   ]
  },
  {
   "cell_type": "code",
   "execution_count": 17,
   "id": "7716e665",
   "metadata": {},
   "outputs": [
    {
     "name": "stdout",
     "output_type": "stream",
     "text": [
      "0.2222222222222222\n"
     ]
    }
   ],
   "source": [
    "print(p('outlook=sunny | play=yes'))"
   ]
  },
  {
   "cell_type": "code",
   "execution_count": 18,
   "id": "be90aa5e",
   "metadata": {},
   "outputs": [
    {
     "name": "stdout",
     "output_type": "stream",
     "text": [
      "0.5\n"
     ]
    }
   ],
   "source": [
    "print(p('play=no, outlook=sunny | wind = weak, humidity=high'))"
   ]
  },
  {
   "cell_type": "code",
   "execution_count": 19,
   "id": "5c3f4b05",
   "metadata": {},
   "outputs": [
    {
     "name": "stdout",
     "output_type": "stream",
     "text": [
      "0\n"
     ]
    }
   ],
   "source": [
    "print(p('play=no | temp=hot, humidity=high, outlook=rainy'))"
   ]
  },
  {
   "cell_type": "markdown",
   "id": "cbeda7c3",
   "metadata": {},
   "source": [
    "## Archived Functions based on iterations"
   ]
  },
  {
   "cell_type": "markdown",
   "id": "79fdfcce",
   "metadata": {},
   "source": [
    "<!-- # def probability(df):\n",
    "#     '''\n",
    "#     WRITE DOCSTRING HERE!\n",
    "#     '''\n",
    "#     def p(s):\n",
    "#         pexp = [x.strip() for x in s.strip().split(\"=\")]\n",
    "#         ans = len(df[(df[pexp[0]]==pexp[1])])/len(df[pexp[0]])\n",
    "#         return ans \n",
    "#     return p -->"
   ]
  },
  {
   "cell_type": "code",
   "execution_count": 20,
   "id": "6022be96",
   "metadata": {},
   "outputs": [],
   "source": [
    "# def probability(df):\n",
    "#     '''\n",
    "#     WRITE DOCSTRING HERE!\n",
    "#     '''\n",
    "#     def p(s):\n",
    "#         pexp = [x.strip() for x in s.strip().split(\"=\")]\n",
    "#         ans = len(df[(df[pexp[0]]==pexp[1])])/len(df[pexp[0]])\n",
    "#         return ans \n",
    "#     return p"
   ]
  },
  {
   "cell_type": "code",
   "execution_count": 21,
   "id": "d7685b21",
   "metadata": {},
   "outputs": [],
   "source": [
    "# def probability(df):\n",
    "#     '''\n",
    "#     WRITE DOCSTRING HERE!\n",
    "#     '''\n",
    "#     def p(s):\n",
    "#         event,given = parse_features(s)\n",
    "#         event_mask = (df[event[0]]==event[1]) & (df[given[0]]==given[1])\n",
    "#         given_mask = (df[given[0]]==given[1])\n",
    "#         if (len(df[given_mask])==0):\n",
    "#             return 0\n",
    "#         else:\n",
    "#             ans = len(df[event_mask])/len(df[given_mask])\n",
    "#             return ans \n",
    "#     return p"
   ]
  },
  {
   "cell_type": "code",
   "execution_count": 22,
   "id": "d1044d29",
   "metadata": {},
   "outputs": [],
   "source": [
    "# def probability(df):\n",
    "#     '''\n",
    "#     WRITE DOCSTRING HERE!\n",
    "#     '''\n",
    "#     def p(s):\n",
    "#         eventdict,givendict = parse_features(s)\n",
    "#         event_mask,given_mask = compute_exp(eventdict,givendict)\n",
    "        \n",
    "#         if (len(df[eval(given_mask)])==0):\n",
    "#             return 0\n",
    "#         else:\n",
    "#             ans = len(df[eval(event_mask + ' & '+ given_mask)])/len(df[eval(given_mask)])\n",
    "#             return ans \n",
    "#     return p"
   ]
  },
  {
   "cell_type": "code",
   "execution_count": 23,
   "id": "88c78385",
   "metadata": {},
   "outputs": [],
   "source": [
    "# def parse_features(s):\n",
    "#     '''\n",
    "#     Parse the string s to return the expressions lists of the Given and Event params.\n",
    "#     Event and Given params are seperated by |.\n",
    "#     Individual expression has feature name and value seperated by =\n",
    "#     '''\n",
    "#     expeve,expgiv = [e.strip() for e in s.strip().split(\"|\")]\n",
    "#     eventlst = [y.strip() for x in expeve.split(\",\") for y in x.split(\"=\")]\n",
    "#     givenlst = [y.strip() for x in expgiv.split(\",\") for y in x.split(\"=\")]\n",
    "#     evedict = {eventlst[i]:eventlst[i+1] for i in range(0,len(eventlst),2)}\n",
    "#     givdict = {givenlst[i]:givenlst[i+1] for i in range(0,len(givenlst),2)}\n",
    "#     return (evedict,givdict)\n",
    "# #     return [[y.strip() for y in x.strip().split(\"=\") ] for x in s.strip().split(\"|\")]"
   ]
  },
  {
   "cell_type": "code",
   "execution_count": 24,
   "id": "089b1ecd",
   "metadata": {},
   "outputs": [],
   "source": [
    "# def compute_exp(ed,gd):\n",
    "#     eventsexp_str = \" & \".join([str(\"(df['\" + k + \"']=='\" + v + \"')\") for k,v in ed.items()])\n",
    "#     givexp_str = \" & \".join([str(\"(df['\" + k + \"']=='\" + v + \"')\") for k,v in gd.items()])\n",
    "#     return (eventsexp_str,givexp_str)"
   ]
  }
 ],
 "metadata": {
  "kernelspec": {
   "display_name": "Python 3 (ipykernel)",
   "language": "python",
   "name": "python3"
  },
  "language_info": {
   "codemirror_mode": {
    "name": "ipython",
    "version": 3
   },
   "file_extension": ".py",
   "mimetype": "text/x-python",
   "name": "python",
   "nbconvert_exporter": "python",
   "pygments_lexer": "ipython3",
   "version": "3.8.12"
  }
 },
 "nbformat": 4,
 "nbformat_minor": 5
}
